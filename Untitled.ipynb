{
 "cells": [
  {
   "cell_type": "code",
   "execution_count": 3,
   "metadata": {},
   "outputs": [],
   "source": [
    "import re"
   ]
  },
  {
   "cell_type": "code",
   "execution_count": 4,
   "metadata": {},
   "outputs": [
    {
     "name": "stdout",
     "output_type": "stream",
     "text": [
      "2\n",
      "You're a wizard, Harry!\n",
      "I'm a... WHAT?!\n"
     ]
    }
   ],
   "source": [
    "loops = int(input())\n",
    "inputs = []\n",
    "for x in range(loops):\n",
    "    inputs.append(input())"
   ]
  },
  {
   "cell_type": "code",
   "execution_count": 5,
   "metadata": {},
   "outputs": [],
   "source": [
    "def lexicalAnalysis(sentence):\n",
    "    regex = re.compile(r\"[!@#^~`<>()&%_;:/$',=\\\"\\+\\?\\-\\*\\.\\s]+\")\n",
    "    for i in range(loops):\n",
    "        plainLower = inputs[i].lower()\n",
    "        token = regex.sub(' ', plainLower)\n",
    "        token = re.sub(r'\\d+', ' <num> ', token)\n",
    "        token = re.split(' ', token)\n",
    "        token = list(filter(None, token))\n",
    "        print(*token, sep=', ')"
   ]
  },
  {
   "cell_type": "code",
   "execution_count": 15,
   "metadata": {},
   "outputs": [],
   "source": [
    "def clean():\n",
    "        print(lexicalAnalysis(inputs))"
   ]
  },
  {
   "cell_type": "code",
   "execution_count": 16,
   "metadata": {},
   "outputs": [
    {
     "name": "stdout",
     "output_type": "stream",
     "text": [
      "you, re, a, wizard, harry\n",
      "i, m, a, what\n",
      "None\n"
     ]
    }
   ],
   "source": [
    "clean()"
   ]
  },
  {
   "cell_type": "code",
   "execution_count": null,
   "metadata": {},
   "outputs": [],
   "source": [
    "import re\n",
    "\n",
    "n = int(input())\n",
    "regex = re.compile(r\"[!@#^~`<>()&%_;:/$',=\\\"\\+\\?\\-\\*\\.\\s]+\")\n",
    "for i in range(n):\n",
    "    plainLower = input().lower()\n",
    "    token = regex.sub(' ', plainLower)\n",
    "    token = re.sub(r'\\d+', ' <num> ', token)\n",
    "    token = re.split(' ', token)\n",
    "    token = list(filter(None, token))\n",
    "    print(*token, sep=', ')"
   ]
  },
  {
   "cell_type": "code",
   "execution_count": null,
   "metadata": {},
   "outputs": [],
   "source": [
    "import re\n",
    "\n",
    "loops = int(input())\n",
    "inputs = []\n",
    "for x in range(loops):\n",
    "    inputs.append(input())"
   ]
  },
  {
   "cell_type": "code",
   "execution_count": null,
   "metadata": {},
   "outputs": [],
   "source": [
    "regex = re.compile(r\"[!@#^~`<>()&%_;:/$',=\\\"\\+\\?\\-\\*\\.\\s]+\")\n",
    "for i in range(len(inputs)):\n",
    "    token = regex.sub(' ', plainLower)\n",
    "    token = re.sub(r'\\d+', ' <num> ', token)\n",
    "    token = re.split(' ', token)\n",
    "    token = list(filter(None, token))\n",
    "    print(*token, sep=', ')"
   ]
  },
  {
   "cell_type": "code",
   "execution_count": null,
   "metadata": {},
   "outputs": [],
   "source": []
  }
 ],
 "metadata": {
  "kernelspec": {
   "display_name": "Python 3",
   "language": "python",
   "name": "python3"
  },
  "language_info": {
   "codemirror_mode": {
    "name": "ipython",
    "version": 3
   },
   "file_extension": ".py",
   "mimetype": "text/x-python",
   "name": "python",
   "nbconvert_exporter": "python",
   "pygments_lexer": "ipython3",
   "version": "3.6.5"
  }
 },
 "nbformat": 4,
 "nbformat_minor": 2
}
